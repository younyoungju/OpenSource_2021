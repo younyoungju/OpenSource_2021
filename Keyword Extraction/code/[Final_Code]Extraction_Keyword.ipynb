{
 "cells": [
  {
   "cell_type": "code",
   "execution_count": null,
   "metadata": {},
   "outputs": [],
   "source": [
    "#my_file = 이미지 파일 경로 이름\n",
    "def ocr_text(my_file):\n",
    "    import cv2\n",
    "    import pytesseract\n",
    "    import numpy as np\n",
    "    import os\n",
    "    import pdftotext\n",
    "\n",
    "    pytesseract.pytesseract.tesseract_cmd = r'C:\\Program Files\\Tesseract-OCR\\tesseract'\n",
    "    \n",
    "    file_path = os.path.splitext(my_file)[1]\n",
    "    if file_path=='.png' or file_path=='.jpg':\n",
    "        image_file = cv2.imread(my_img)\n",
    "        img_gray = cv2.cvtColor(image_file, cv2.COLOR_BGR2GRAY)\n",
    "        my_text = pytesseract.image_to_string(img_gray, lang='kor')\n",
    "\n",
    "    if file_path=='pdf':\n",
    "        with open(my_file, \"rb\") as f:\n",
    "            text_file=pdftotext.PDF(f)\n",
    "        my_text = text_file.read()\n",
    "    \n",
    "    return my_text\n"
   ]
  },
  {
   "cell_type": "code",
   "execution_count": 72,
   "metadata": {},
   "outputs": [],
   "source": [
    "#텍스트 import , encoding\n",
    "#text = upload_files(\"input_text1.txt\")\n",
    "\n",
    "def upload_files(file_name):\n",
    "    print(\"upload_files\")\n",
    "    with open(file_name) as file_object:\n",
    "        texts = file_object.read()\n",
    "        #texts = open(file_name,\"r\", encoding='euc-kr')\n",
    "    return texts"
   ]
  },
  {
   "cell_type": "code",
   "execution_count": 73,
   "metadata": {},
   "outputs": [],
   "source": [
    "def preprocessing_text(texts):\n",
    "    #초기 실행시 아래 pip 다 실행해야함!\n",
    "#     !pip install git+https://github.com/ssut/py-hanspell.git\n",
    "#     !pip install konlpy\n",
    "#     !pip install krwordrank\n",
    "    #오류 발생시 : https://data-scientist-brian-kim.tistory.com/79 침고\n",
    "    \n",
    "    print(\"preprocessing_text\")\n",
    "    from hanspell import spell_checker\n",
    "    from tqdm.notebook import tqdm\n",
    "    from konlpy.tag import Twitter\n",
    "    from collections import Counter\n",
    "    from krwordrank.hangle import normalize\n",
    "\n",
    "\n",
    "    nlpy = Twitter()\n",
    "    \n",
    "#     lines = [line.rstrip('\\n') for line in texts]\n",
    "    lines = texts.splitlines()\n",
    "    nouns_word = [] #명사 단어 추출\n",
    "    normalized_lines = []\n",
    "    for each_line in tqdm(lines):\n",
    "        each_line = each_line.replace(\"\\x0c\", \"\") #json을 로드 하면서 생기는 특수문자 제거\n",
    "        each_line = normalize(each_line, english=True, number=True) #특수문자 제거\n",
    "        each_line = spell_checker.check(each_line).checked #맞춤법 틀린게 있다면 고쳐줌\n",
    "        nouns_word = nouns_word + nlpy.nouns(each_line) # 명사 단어 추출\n",
    "        normalized_lines.append(each_line)\n",
    "    \n",
    "    return lines, nouns_word, normalized_lines\n",
    "\n",
    "#lines : text를 단순히 \\n 기준으로 split 한 것\n",
    "#nouns_word : 각 문장에서 명사 단어\n",
    "#normaliezed_lines : 맞춤범 검사, 특수 기호 제거 된 문장"
   ]
  },
  {
   "cell_type": "code",
   "execution_count": 74,
   "metadata": {},
   "outputs": [],
   "source": [
    "#추출된 명사에서 빈도수 세기\n",
    "def count_noun(nouns_word):\n",
    "    print(\"count_noun\")\n",
    "    import pandas as pd\n",
    "    from collections import Counter\n",
    "    count = Counter(nouns_word)\n",
    "\n",
    "    tag_count = []\n",
    "    tags = []\n",
    "\n",
    "    #길이가 2부터 49까지인 단어 \n",
    "    for n, c in count.most_common():\n",
    "        dics = {'tag': n, 'count': c}\n",
    "        if len(dics['tag']) >= 2 and len(tags) <= 49:\n",
    "            tag_count.append(dics)\n",
    "            tags.append(dics['tag'])\n",
    "        \n",
    "    noun_count_df = pd.DataFrame(tag_count)\n",
    "    \n",
    "    return noun_count_df\n",
    "\n",
    "#컬럼이 tag와 count로 된 dataframe 변환"
   ]
  },
  {
   "cell_type": "code",
   "execution_count": 75,
   "metadata": {},
   "outputs": [],
   "source": [
    "#한글 단어의 중요도 순위 측정\n",
    "def extract_krwordrank(normalized_lines, noun_count_df):\n",
    "    import pandas as pd \n",
    "    \n",
    "    print(\"extract_krwordrank\")\n",
    "    from krwordrank.word import KRWordRank\n",
    "\n",
    "    wordrank_extractor = KRWordRank(\n",
    "        min_count = min(noun_count_df[\"count\"]), # 단어의 최소 출현 빈도수\n",
    "        max_length = max(noun_count_df[\"tag\"].str.len()), # 단어의 최대 길이\n",
    "        verbose = True\n",
    "        )\n",
    "\n",
    "    beta = 0.85    # PageRank의 decaying factor beta\n",
    "    max_iter = 10\n",
    "\n",
    "    #keywords는 filtering이 적용된 L parts\n",
    "    #rank는 substriing graph의 substring에 대한 구마\n",
    "    #graph는 substring graph\n",
    "    keywords, rank, graph = wordrank_extractor.extract(normalized_lines, beta, max_iter)\n",
    "    \n",
    "    keyword_df = pd.DataFrame(list(keywords.items()),columns=['word', 'rank'])\n",
    "    \n",
    "    return keyword_df"
   ]
  },
  {
   "cell_type": "code",
   "execution_count": 76,
   "metadata": {},
   "outputs": [],
   "source": [
    "def make_wordlists(noun_count_df,keyword_df):\n",
    "    print(\"make_wordlists\")\n",
    "    #[\"count\"]>0 수를 조정하여 빈칸 채울 단어 갯수나 난이도를 조정할 수 있음\n",
    "    frequency_noun_list = noun_count_df[noun_count_df[\"count\"]>0][\"tag\"].tolist()\n",
    "    keyword_list = keyword_df[\"word\"].tolist()\n",
    "    return frequency_noun_list,keyword_list"
   ]
  },
  {
   "cell_type": "code",
   "execution_count": 77,
   "metadata": {},
   "outputs": [],
   "source": [
    "#frequency_noun_list 기준으로 빈칸을 생성했을 때\n",
    "\n",
    "def __test_by_frequency_noun__(frequency_noun_list):\n",
    "    print(\"__test_by_frequency_noun__\")\n",
    "    test_by_frequency_noun = []\n",
    "    for each_line in lines:\n",
    "        for word in each_line.split():\n",
    "            if word in frequency_noun_list:\n",
    "                each_line = each_line.replace(word, \"□\"*len(word))\n",
    "        test_by_frequency_noun.append(each_line)\n",
    "        \n",
    "    return test_by_frequency_noun"
   ]
  },
  {
   "cell_type": "code",
   "execution_count": 78,
   "metadata": {},
   "outputs": [],
   "source": [
    "# keyword_list 기준으로 빈칸을 생성했을 때\n",
    "def __test_by_keyword_list__(keyword_list):\n",
    "    print(\"__test_by_keyword_list__\")\n",
    "    test_by_keyword_list = []\n",
    "    for each_line in lines:\n",
    "        for word in each_line.split():\n",
    "            if word in keyword_list:\n",
    "                each_line = each_line.replace(word, \"□\"*len(word))\n",
    "        test_by_keyword_list.append(each_line)\n",
    "    \n",
    "    return test_by_keyword_list"
   ]
  },
  {
   "cell_type": "code",
   "execution_count": 91,
   "metadata": {},
   "outputs": [],
   "source": [
    "# 한 문장에 3개 이상 빈칸이 오지 않도록 갯수 조정\n",
    "\n",
    "def __test_limit_count__(lines, frequency_noun_list,keyword_list, keyword_df):\n",
    "    import pandas as pd\n",
    "    print(\"__test_limit_count__\")\n",
    "    test_limit_count = []\n",
    "    for each_line in lines:\n",
    "        replace_word = []\n",
    "        for word in each_line.split(' '):\n",
    "            if word in keyword_list:\n",
    "                replace_word.append(word)\n",
    "\n",
    "        #한 문장에 빈칸이 3개 이상일때\n",
    "        if len(replace_word) > 2:\n",
    "            A = pd.DataFrame()\n",
    "            pattern = '|'.join(replace_word)\n",
    "            A = keyword_df[keyword_df['word'].str.contains(pattern, case=False)]\n",
    "            replace_word = A[:3].word\n",
    "\n",
    "        for i in replace_word:\n",
    "            each_line = each_line.replace(i,\"□\"*len(i))\n",
    "\n",
    "        test_limit_count.append(each_line)\n",
    "        \n",
    "    return test_limit_count"
   ]
  },
  {
   "cell_type": "code",
   "execution_count": 92,
   "metadata": {},
   "outputs": [],
   "source": [
    "def __main__():\n",
    "    print(\"__main__\")\n",
    "    #input_file = 파일 경로\n",
    "    texets = ocr_text(input_file)\n",
    "\n",
    "    lines, nouns_word, normalized_lines = preprocessing_text(texts)\n",
    "    noun_count_df = count_noun(nouns_word)\n",
    "    keyword_df = extract_krwordrank(normalized_lines, noun_count_df)\n",
    "    frequency_noun_list,keyword_list = make_wordlists(noun_count_df,keyword_df)\n",
    "    test_by_keyword_list = __test_by_frequency_noun__(frequency_noun_list)\n",
    "    #print(test_by_keyword_list)\n",
    "    test_by_keyword_list= __test_by_keyword_list__(keyword_list)\n",
    "    #print(test_by_keyword_list)\n",
    "    test_limit_count = __test_limit_count__(lines, frequency_noun_list,keyword_list, keyword_df)\n",
    "    #print(test_limit_count)\n",
    "    \n",
    "    #text_file = 텍스트 파일 저장 경로\n",
    "    f = open(text_file, 'w', encoding='UTF-8')\n",
    "    f.write(test_limit_count)\n",
    "    f.close()\n",
    "    "
   ]
  },
  {
   "cell_type": "code",
   "execution_count": 93,
   "metadata": {},
   "outputs": [],
   "source": [
    "def __check__():\n",
    "    print(\"되나\")"
   ]
  },
  {
   "cell_type": "code",
   "execution_count": 94,
   "metadata": {},
   "outputs": [
    {
     "name": "stdout",
     "output_type": "stream",
     "text": [
      "__main__\n",
      "upload_files\n",
      "preprocessing_text\n"
     ]
    },
    {
     "name": "stderr",
     "output_type": "stream",
     "text": [
      "C:\\ProgramData\\Anaconda3\\lib\\site-packages\\konlpy\\tag\\_okt.py:16: UserWarning: \"Twitter\" has changed to \"Okt\" since KoNLPy v0.4.5.\n",
      "  warn('\"Twitter\" has changed to \"Okt\" since KoNLPy v0.4.5.')\n"
     ]
    },
    {
     "data": {
      "application/vnd.jupyter.widget-view+json": {
       "model_id": "2928ad422cf04bc9b67adb38d972d464",
       "version_major": 2,
       "version_minor": 0
      },
      "text/plain": [
       "HBox(children=(HTML(value=''), FloatProgress(value=0.0, max=53.0), HTML(value='')))"
      ]
     },
     "metadata": {},
     "output_type": "display_data"
    },
    {
     "name": "stdout",
     "output_type": "stream",
     "text": [
      "\n",
      "count_noun\n",
      "extract_krwordrank\n",
      "scan vocabs ... \n",
      "num vocabs = 606\n",
      "done = 10\n",
      "make_wordlists\n",
      "__test_by_frequency_noun__\n",
      "['2409 22', '', '<1> □□ 사회의 성립과 □□', '1. 근세의 □□', '1) 돔양의 □□ : 중국의 명(전제 □□ 확립, □□ □□ 발전). 청, 서남 아시아의', '', '오스만 제국(□□□의 번성), 인도의 무굴 제국(인도, □□□ 문화권), 일본의', '전국시대. 에도 막부(집권적 봉건 제도)', '', '2) 서양 근대 사회의 태동 : 르네상스, 신항로 개척, 종교 개력', '2. 조선의 □□', '', '1) □□ 과정 : 위화도 회군(1388) - 과전법 마련(1391) -* 력명파의 온건 개혁파', '제거, 도평의사사 장악 -* □□ □□ 건국(1392 년)', '', '2) 국왕 중심의 □□ □□ □□', '00 태조 : 정도전 주도(재상 중심의 정치, 불씨잡변)- 새 왕조의 기를 □□', '9 태종 : □□□ 설치, 6조 직계제, □□□ 독립,     종천의 영향력 약화,', '양전사업 실시, 호패법 시행, 사원전 몰수, 사병 폐지, 옹의 천위군 증대', '3) 세좋의 □□ □□ 실현 노력', '', '0 왕권과 신권의 □□ : □□□ 설치, □□□ 서사제(정책 심의), 왕의 인사.', '군사권 □□', '', '                                                                                                                  ', '', '9 유교적 민본사상 : 왕도 정치, 유능한 인재와 청백리 등용, 여론 존중', '4) 문물 제도의 □□', '0 세조 : 6조 직계제 복귀, 집현전과 □□ 폐지, 종친 □□', '9 성종 : □□□ 설치(□□관 경직), □□ 부활(왕과 신하들의 중요 □□ 토론.', '', '심의), □□□□ 반포 - □□ 왕조의 □□ □□ □□', '', '<2> □□ 체제의 □□', '1, □□ □□ □□ : 경국대전메 의거', '1) □□ : 문무 양반, 18 등급, 당상관(주요 관서의 책임자)과 당하관(실무담당)', '2) □□ : □□ -경□□, □□ - 외□□', '0 의정부와 6조 : 행정의 기능적 분화와 전문성의 □□', '19 3 사(언론 담당) : 사헌부. 사간원. 홍문관, 정사 비판 및 관리의 비리 감찰', \"'@ 기타 : 의금부(중대 범죄인 처벌), 승정원(왕명 출납),     (역사 편찬 및 보관)\", '', '한성부(서울의 행정, 치안담당), 성균관(국립 대학교)', '', '2. □□ □□ 조직', '', '1) 특징 : 모든 □□에 □□ 파견, 향. 부곡. 소의 □□ 승격,', '', '수령의 권한 강화(행정, 사법, 군사권 행사), 향리의 지위 격하(세습적 아전)', '', ' ', '', '4', '']\n",
      "__test_by_keyword_list__\n",
      "['2409 □□', '', '<1> □□ □□□ □□□ □□', '1. 근세의 □□', '1) 돔양의 □□ : 중국의 명(전제 □□ 확립, □□ 문화 발전). 청, □□ 아시아의', '', '□□□ 제국(□□□의 번성), 인도의 □□ 제국(인도, □□□ 문화권), □□□', '전국시대. □□ 막부(집권적 □□ 제도)', '', '2) □□ □□ □□□ □□ : 르네상스, □□□ 개척, □□ □□', '2. 조선의 □□', '', '1) □□ □□ : □□□ 회군(1388) - □□□ 마련(1391) -* 력명파의 □□ 개혁파', '제거, 도평의사사 □□ -* □□ □□ 건국(1392 년)', '', '2) □□ □□□ □□ □□ □□', '□□ □□ : 정도전 주도(재상 □□□ 정치, 불씨잡변)- 새 왕조의 □□ □□', '9 □□ : □□□ 설치, □□ 직계제, □□□ 독립,     □□□ □□□ 약화,', '양전사업 실시, □□□ 시행, □□□ 몰수, □□ 폐지, □□ 천위군 □□', '3) 세좋의 □□ □□ □□ □□', '', '0 왕권과 □□□ □□ : 집현전 설치, □□□ 서사제(정책 심의), □□ 인사.', '□□□ □□', '', '                                                                                                                  ', '', '9 유교적 □□□□ : □□ 정치, □□□ □□□ □□□ 등용, □□ □□', '4) □□ 제도의 □□', '0 □□ : □□ □□□ 복귀, 집현전과 □□ 폐지, □□ □□', '9 □□ : □□□ 설치(□□관 경직), □□ 부활(왕과 신하들의 □□ □□ 토론.', '', '심의), 경국대전 □□ - □□ 왕조의 □□ □□ □□', '', '<2> □□ 체제의 □□', '1, □□ □□ □□ : 경국대전메 □□', '1) □□ : □□ 양반, □□ 등급, 당상관(주요 □□□ 책임자)과 당하관(실무담당)', '2) □□ : □□ -경□□, □□ - 외□□', '0 의정부와 □□ : 행정의 □□□ □□□ □□□□ □□', '□□ 3 사(언론 담당) : 사헌부. 사간원. 홍문관, □□ □□ 및 관리의 □□ □□', \"'@ □□ : 의금부(중대 범죄인 처벌), 승정원(왕명 출납),     (역사 □□ 및 보관)\", '', '한성부(서울의 행정, 치안담당), 성균관(국립 대학교)', '', '2. □□ □□ □□', '', '1) □□ : □□ □□에 □□ 파견, 향. 부곡. □□ □□ 승격,', '', '수령의 □□ 강화(행정, 사법, □□□ 행사), □□□ □□ 격하(세습적 아전)', '', ' ', '', '4', '']\n",
      "__test_limit_count__\n",
      "['2409 □□', '', '<1> □□ □□□ □□□ 전개', '1. 근세의 □□', '1) 돔양의 □□ : 중국의 명(전제 □□ 확립, 서민 문화 발전). 청, □□ 아시아의', '', '□□□ 제국(□□□의 번성), 인도의 무굴 제국(인도, □□□ 문화권), □□□', '전국시대. □□ 막부(집권적 □□ 제도)', '', '2) 서양 근대 □□□ □□ : 르네상스, □□□ 개척, 종교 개력', '2. 조선의 □□', '', '1) □□ 과정 : 위화도 회군(1388) - □□□ 마련(1391) -* 력명파의 □□ 개혁파', '제거, 도평의사사 □□ -* □□ □□ 건국(1392 년)', '', '2) 국왕 중심의 □□ □□ □□', '00 □□ : 정도전 주도(재상 □□□ 정치, 불씨잡변)- 새 왕조의 기를 □□', '9 태종 : □□□ 설치, □□ 직계제, □□□ 독립,     종천의 영향력 약화,', '양전사업 실시, □□□ 시행, □□□ 몰수, □□ 폐지, 옹의 천위군 증대', '3) 세좋의 □□ □□ □□ 노력', '', '0 왕권과 □□□ □□ : 집현전 설치, □□□ 서사제(정책 심의), 왕의 인사.', '□□□ □□', '', '                                                                                                                  ', '', '9 유교적 민본사상 : □□ 정치, 유능한 □□□ □□□ 등용, 여론 존중', '4) □□ 제도의 □□', '0 세조 : □□ □□□ 복귀, 집현전과 □□ 폐지, 종친 등용', '9 성종 : □□□ 설치(□□관 경직), □□ 부활(왕과 신하들의 중요 □□ 토론.', '', '심의), 경국대전 반포 - □□ 왕조의 □□ □□ 확립', '', '<2> □□ 체제의 □□', '1, 중앙 □□ □□ : 경국대전메 □□', '1) □□ : 문무 양반, □□ 등급, 당상관(주요 □□□ 책임자)과 당하관(실무담당)', '2) 관직 : □□ -□□□, □□ - 외관직', '0 의정부와 □□ : 행정의 기능적 □□□ 전문성의 □□', '19 3 사(언론 담당) : 사헌부. 사간원. 홍문관, □□ 비판 및 관리의 □□ □□', \"'@ □□ : 의금부(중대 범죄인 처벌), 승정원(왕명 출납),     (역사 □□ 및 보관)\", '', '한성부(서울의 행정, 치안담당), 성균관(국립 대학교)', '', '2. □□ □□ □□', '', '1) 특징 : □□ □□에 □□ 파견, 향. 부곡. 소의 □□ 승격,', '', '수령의 □□ 강화(행정, 사법, □□□ 행사), 향리의 □□ 격하(세습적 아전)', '', ' ', '', '4', '']\n"
     ]
    }
   ],
   "source": [
    "__main__()"
   ]
  },
  {
   "cell_type": "code",
   "execution_count": null,
   "metadata": {},
   "outputs": [],
   "source": []
  }
 ],
 "metadata": {
  "kernelspec": {
   "display_name": "Python 3",
   "language": "python",
   "name": "python3"
  },
  "language_info": {
   "codemirror_mode": {
    "name": "ipython",
    "version": 3
   },
   "file_extension": ".py",
   "mimetype": "text/x-python",
   "name": "python",
   "nbconvert_exporter": "python",
   "pygments_lexer": "ipython3",
   "version": "3.8.5"
  }
 },
 "nbformat": 4,
 "nbformat_minor": 4
}
