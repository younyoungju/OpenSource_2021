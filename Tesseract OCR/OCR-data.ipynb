{
 "cells": [
  {
   "cell_type": "markdown",
   "metadata": {},
   "source": [
    "데이터 확인"
   ]
  },
  {
   "cell_type": "code",
   "execution_count": 17,
   "metadata": {},
   "outputs": [],
   "source": [
    "import cv2\n",
    "import pytesseract\n",
    "import numpy as np"
   ]
  },
  {
   "cell_type": "code",
   "execution_count": 18,
   "metadata": {},
   "outputs": [],
   "source": [
    "pytesseract.pytesseract.tesseract_cmd = r'C:\\Program Files\\Tesseract-OCR\\tesseract'\n",
    "\n",
    "custom_config_e = ('-l eng --oem 3 --psm 4') \n",
    "custom_config_k = ('-l kor --oem 3 --psm 4') \n",
    "custom_config_ke = ('-l kor+eng --oem 3 --psm 4') "
   ]
  },
  {
   "cell_type": "code",
   "execution_count": 19,
   "metadata": {},
   "outputs": [],
   "source": [
    "img_1 = cv2.imread('C:/Users/user/Desktop/Tesseract-OCR/data/in/IMGE_1.png')\n",
    "\n",
    "img_gray_1 = cv2.cvtColor(img_1, cv2.COLOR_BGR2GRAY)\n",
    "img_gray_to_txt_1 = pytesseract.image_to_string(img_gray_1, lang='kor+eng')\n",
    "\n",
    "f = open('C:/Users/user/Desktop/Tesseract-OCR/data/out/IMGE_1.txt', 'w')\n",
    "f.write(img_gray_to_txt_1)\n",
    "\n",
    "f.close()"
   ]
  },
  {
   "cell_type": "code",
   "execution_count": 20,
   "metadata": {},
   "outputs": [
    {
     "ename": "UnicodeEncodeError",
     "evalue": "'cp949' codec can't encode character '\\xa9' in position 1176: illegal multibyte sequence",
     "output_type": "error",
     "traceback": [
      "\u001b[1;31m---------------------------------------------------------------------------\u001b[0m",
      "\u001b[1;31mUnicodeEncodeError\u001b[0m                        Traceback (most recent call last)",
      "\u001b[1;32m<ipython-input-20-bcd15c003fee>\u001b[0m in \u001b[0;36m<module>\u001b[1;34m\u001b[0m\n\u001b[0;32m      5\u001b[0m \u001b[1;33m\u001b[0m\u001b[0m\n\u001b[0;32m      6\u001b[0m \u001b[0mf\u001b[0m \u001b[1;33m=\u001b[0m \u001b[0mopen\u001b[0m\u001b[1;33m(\u001b[0m\u001b[1;34m'C:/Users/user/Desktop/Tesseract-OCR/data/out/IMGE_2.txt'\u001b[0m\u001b[1;33m,\u001b[0m \u001b[1;34m'w'\u001b[0m\u001b[1;33m)\u001b[0m\u001b[1;33m\u001b[0m\u001b[1;33m\u001b[0m\u001b[0m\n\u001b[1;32m----> 7\u001b[1;33m \u001b[0mf\u001b[0m\u001b[1;33m.\u001b[0m\u001b[0mwrite\u001b[0m\u001b[1;33m(\u001b[0m\u001b[0mimg_gray_to_txt_2\u001b[0m\u001b[1;33m)\u001b[0m\u001b[1;33m\u001b[0m\u001b[1;33m\u001b[0m\u001b[0m\n\u001b[0m\u001b[0;32m      8\u001b[0m \u001b[1;33m\u001b[0m\u001b[0m\n\u001b[0;32m      9\u001b[0m \u001b[0mf\u001b[0m\u001b[1;33m.\u001b[0m\u001b[0mclose\u001b[0m\u001b[1;33m(\u001b[0m\u001b[1;33m)\u001b[0m\u001b[1;33m\u001b[0m\u001b[1;33m\u001b[0m\u001b[0m\n",
      "\u001b[1;31mUnicodeEncodeError\u001b[0m: 'cp949' codec can't encode character '\\xa9' in position 1176: illegal multibyte sequence"
     ]
    }
   ],
   "source": [
    "img_2 = cv2.imread('C:/Users/user/Desktop/Tesseract-OCR/data/in/IMGE_2.png')\n",
    "\n",
    "img_gray_2 = cv2.cvtColor(img_2, cv2.COLOR_BGR2GRAY)\n",
    "img_gray_to_txt_2 = pytesseract.image_to_string(img_gray_2, lang='kor+eng')\n",
    "\n",
    "f = open('C:/Users/user/Desktop/Tesseract-OCR/data/out/IMGE_2.txt', 'w')\n",
    "f.write(img_gray_to_txt_2)\n",
    "\n",
    "f.close()"
   ]
  },
  {
   "cell_type": "code",
   "execution_count": 21,
   "metadata": {},
   "outputs": [
    {
     "ename": "UnicodeEncodeError",
     "evalue": "'cp949' codec can't encode character '\\xbb' in position 644: illegal multibyte sequence",
     "output_type": "error",
     "traceback": [
      "\u001b[1;31m---------------------------------------------------------------------------\u001b[0m",
      "\u001b[1;31mUnicodeEncodeError\u001b[0m                        Traceback (most recent call last)",
      "\u001b[1;32m<ipython-input-21-0ebbccef566a>\u001b[0m in \u001b[0;36m<module>\u001b[1;34m\u001b[0m\n\u001b[0;32m      5\u001b[0m \u001b[1;33m\u001b[0m\u001b[0m\n\u001b[0;32m      6\u001b[0m \u001b[0mf\u001b[0m \u001b[1;33m=\u001b[0m \u001b[0mopen\u001b[0m\u001b[1;33m(\u001b[0m\u001b[1;34m'C:/Users/user/Desktop/Tesseract-OCR/data/out/IMGE_3.txt'\u001b[0m\u001b[1;33m,\u001b[0m \u001b[1;34m'w'\u001b[0m\u001b[1;33m)\u001b[0m\u001b[1;33m\u001b[0m\u001b[1;33m\u001b[0m\u001b[0m\n\u001b[1;32m----> 7\u001b[1;33m \u001b[0mf\u001b[0m\u001b[1;33m.\u001b[0m\u001b[0mwrite\u001b[0m\u001b[1;33m(\u001b[0m\u001b[0mimg_gray_to_txt_3\u001b[0m\u001b[1;33m)\u001b[0m\u001b[1;33m\u001b[0m\u001b[1;33m\u001b[0m\u001b[0m\n\u001b[0m\u001b[0;32m      8\u001b[0m \u001b[1;33m\u001b[0m\u001b[0m\n\u001b[0;32m      9\u001b[0m \u001b[0mf\u001b[0m\u001b[1;33m.\u001b[0m\u001b[0mclose\u001b[0m\u001b[1;33m(\u001b[0m\u001b[1;33m)\u001b[0m\u001b[1;33m\u001b[0m\u001b[1;33m\u001b[0m\u001b[0m\n",
      "\u001b[1;31mUnicodeEncodeError\u001b[0m: 'cp949' codec can't encode character '\\xbb' in position 644: illegal multibyte sequence"
     ]
    }
   ],
   "source": [
    "img_3 = cv2.imread('C:/Users/user/Desktop/Tesseract-OCR/data/in/IMGE_3.png')\n",
    "\n",
    "img_gray_3 = cv2.cvtColor(img_3, cv2.COLOR_BGR2GRAY)\n",
    "img_gray_to_txt_3 = pytesseract.image_to_string(img_gray_3, lang='kor+eng')\n",
    "\n",
    "f = open('C:/Users/user/Desktop/Tesseract-OCR/data/out/IMGE_3.txt', 'w')\n",
    "f.write(img_gray_to_txt_3)\n",
    "\n",
    "f.close()"
   ]
  },
  {
   "cell_type": "code",
   "execution_count": null,
   "metadata": {},
   "outputs": [],
   "source": [
    "img_4 = cv2.imread('C:/Users/user/Desktop/Tesseract-OCR/data/in/IMGE_4.png')\n",
    "\n",
    "img_gray_4 = cv2.cvtColor(img_4, cv2.COLOR_BGR2GRAY)\n",
    "img_gray_to_txt_4 = pytesseract.image_to_string(img_gray_4, lang='kor+eng')\n",
    "\n",
    "f = open('C:/Users/user/Desktop/Tesseract-OCR/data/out/IMGE_4.txt', 'w')\n",
    "f.write(img_gray_to_txt_4)\n",
    "\n",
    "f.close()"
   ]
  },
  {
   "cell_type": "code",
   "execution_count": null,
   "metadata": {},
   "outputs": [],
   "source": [
    "img_5 = cv2.imread('C:/Users/user/Desktop/Tesseract-OCR/data/in/IMGE_5.png')\n",
    "\n",
    "img_gray_5 = cv2.cvtColor(img_5, cv2.COLOR_BGR2GRAY)\n",
    "img_gray_to_txt_5 = pytesseract.image_to_string(img_gray_5, lang='kor+eng')\n",
    "\n",
    "f = open('C:/Users/user/Desktop/Tesseract-OCR/data/out/IMGE_5.txt', 'w')\n",
    "f.write(img_gray_to_txt_5)\n",
    "\n",
    "f.close()"
   ]
  },
  {
   "cell_type": "code",
   "execution_count": null,
   "metadata": {},
   "outputs": [],
   "source": [
    "img_6 = cv2.imread('C:/Users/user/Desktop/Tesseract-OCR/data/in/IMGE_6.png')\n",
    "\n",
    "img_gray_6 = cv2.cvtColor(img_6, cv2.COLOR_BGR2GRAY)\n",
    "img_gray_to_txt_6 = pytesseract.image_to_string(img_gray_6, lang='kor+eng')\n",
    "\n",
    "f = open('C:/Users/user/Desktop/Tesseract-OCR/data/out/IMGE_6.txt', 'w')\n",
    "f.write(img_gray_to_txt_6)\n",
    "\n",
    "f.close()"
   ]
  },
  {
   "cell_type": "code",
   "execution_count": null,
   "metadata": {},
   "outputs": [],
   "source": [
    "img_7 = cv2.imread('C:/Users/user/Desktop/Tesseract-OCR/data/in/IMGE_7png')\n",
    "\n",
    "img_gray_7= cv2.cvtColor(img_7 cv2.COLOR_BGR2GRAY)\n",
    "img_gray_to_txt_7= pytesseract.image_to_string(img_gray_7 lang='kor+eng')\n",
    "\n",
    "f = open('C:/Users/user/Desktop/Tesseract-OCR/data/out/IMGE_7txt', 'w')\n",
    "f.write(img_gray_to_txt_7\n",
    "\n",
    "f.close()"
   ]
  },
  {
   "cell_type": "code",
   "execution_count": null,
   "metadata": {},
   "outputs": [],
   "source": [
    "img_8 = cv2.imread('C:/Users/user/Desktop/Tesseract-OCR/data/in/IMGE_8.png')\n",
    "\n",
    "img_gray_8 = cv2.cvtColor(img_8, cv2.COLOR_BGR2GRAY)\n",
    "img_gray_to_txt_8 = pytesseract.image_to_string(img_gray_8, lang='kor+eng')\n",
    "\n",
    "f = open('C:/Users/user/Desktop/Tesseract-OCR/data/out/IMGE_8.txt', 'w')\n",
    "f.write(img_gray_to_txt_8)\n",
    "\n",
    "f.close()"
   ]
  },
  {
   "cell_type": "code",
   "execution_count": null,
   "metadata": {},
   "outputs": [],
   "source": [
    "img_9 = cv2.imread('C:/Users/user/Desktop/Tesseract-OCR/data/in/IMGE_9.png')\n",
    "\n",
    "img_gray_9 = cv2.cvtColor(img_9, cv2.COLOR_BGR2GRAY)\n",
    "img_gray_to_txt_9 = pytesseract.image_to_string(img_gray_9, lang='kor+eng')\n",
    "\n",
    "f = open('C:/Users/user/Desktop/Tesseract-OCR/data/out/IMGE_9.txt', 'w')\n",
    "f.write(img_gray_to_txt_9)\n",
    "\n",
    "f.close()"
   ]
  },
  {
   "cell_type": "code",
   "execution_count": null,
   "metadata": {},
   "outputs": [],
   "source": [
    "img_10 = cv2.imread('C:/Users/user/Desktop/Tesseract-OCR/data/in/IMGE_10.png')\n",
    "\n",
    "img_gray_10 = cv2.cvtColor(img_10, cv2.COLOR_BGR2GRAY)\n",
    "img_gray_to_txt_11 = pytesseract.image_to_string(img_gray_10, lang='kor+eng')\n",
    "\n",
    "f = open('C:/Users/user/Desktop/Tesseract-OCR/data/out/IMGE_10.txt', 'w')\n",
    "f.write(img_gray_to_txt_10)\n",
    "\n",
    "f.close()"
   ]
  },
  {
   "cell_type": "code",
   "execution_count": 9,
   "metadata": {},
   "outputs": [],
   "source": [
    "img_11 = cv2.imread('C:/Users/user/Desktop/Tesseract-OCR/data/in/IMGE_11.png')\n",
    "\n",
    "img_gray_11 = cv2.cvtColor(img_11, cv2.COLOR_BGR2GRAY)\n",
    "img_gray_to_txt_11 = pytesseract.image_to_string(img_gray_11, lang='kor+eng')\n",
    "\n",
    "f = open('C:/Users/user/Desktop/Tesseract-OCR/data/out/IMGE_11.txt', 'w')\n",
    "f.write(img_gray_to_txt_11)\n",
    "\n",
    "f.close()"
   ]
  },
  {
   "cell_type": "code",
   "execution_count": null,
   "metadata": {},
   "outputs": [],
   "source": [
    "img_12 = cv2.imread('C:/Users/user/Desktop/Tesseract-OCR/data/in/IMGE_12.png')\n",
    "\n",
    "img_gray_12 = cv2.cvtColor(img_12, cv2.COLOR_BGR2GRAY)\n",
    "img_gray_to_txt_12 = pytesseract.image_to_string(img_gray_12, lang='kor+eng')\n",
    "\n",
    "f = open('C:/Users/user/Desktop/Tesseract-OCR/data/out/IMGE_12.txt', 'w')\n",
    "f.write(img_gray_to_txt_12)\n",
    "\n",
    "f.close()"
   ]
  },
  {
   "cell_type": "code",
   "execution_count": 12,
   "metadata": {},
   "outputs": [],
   "source": [
    "img_13 = cv2.imread('C:/Users/user/Desktop/Tesseract-OCR/data/in/IMGE_13.png')\n",
    "\n",
    "img_gray_13 = cv2.cvtColor(img_13, cv2.COLOR_BGR2GRAY)\n",
    "img_gray_to_txt_13 = pytesseract.image_to_string(img_gray_13, lang='kor+eng')\n",
    "\n",
    "f = open('C:/Users/user/Desktop/Tesseract-OCR/data/out/IMGE_13.txt', 'w')\n",
    "f.write(img_gray_to_txt_13)\n",
    "\n",
    "f.close()"
   ]
  },
  {
   "cell_type": "code",
   "execution_count": null,
   "metadata": {},
   "outputs": [],
   "source": [
    "img_14 = cv2.imread('C:/Users/user/Desktop/Tesseract-OCR/data/in/IMGE_14.png')\n",
    "\n",
    "img_gray_14 = cv2.cvtColor(img_14, cv2.COLOR_BGR2GRAY)\n",
    "img_gray_to_txt_14 = pytesseract.image_to_string(img_gray_14, lang='kor+eng')\n",
    "\n",
    "f = open('C:/Users/user/Desktop/Tesseract-OCR/data/out/IMGE_14.txt', 'w')\n",
    "f.write(img_gray_to_txt_14)\n",
    "\n",
    "f.close()"
   ]
  },
  {
   "cell_type": "code",
   "execution_count": null,
   "metadata": {},
   "outputs": [],
   "source": [
    "img_15 = cv2.imread('C:/Users/user/Desktop/Tesseract-OCR/data/in/IMGE_15.png')\n",
    "\n",
    "img_gray_15 = cv2.cvtColor(img_15, cv2.COLOR_BGR2GRAY)\n",
    "img_gray_to_txt_15 = pytesseract.image_to_string(img_gray_15, lang='kor+eng')\n",
    "\n",
    "f = open('C:/Users/user/Desktop/Tesseract-OCR/data/out/IMGE_15.txt', 'w')\n",
    "f.write(img_gray_to_txt_15)\n",
    "\n",
    "f.close()"
   ]
  }
 ],
 "metadata": {
  "kernelspec": {
   "display_name": "Python 3",
   "language": "python",
   "name": "python3"
  },
  "language_info": {
   "codemirror_mode": {
    "name": "ipython",
    "version": 3
   },
   "file_extension": ".py",
   "mimetype": "text/x-python",
   "name": "python",
   "nbconvert_exporter": "python",
   "pygments_lexer": "ipython3",
   "version": "3.8.5"
  }
 },
 "nbformat": 4,
 "nbformat_minor": 4
}
