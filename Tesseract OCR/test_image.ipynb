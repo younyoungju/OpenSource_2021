{
 "cells": [
  {
   "cell_type": "code",
   "execution_count": null,
   "metadata": {},
   "outputs": [],
   "source": [
    "import cv2\n",
    "import pytesseract\n",
    "import numpy as np"
   ]
  },
  {
   "cell_type": "code",
   "execution_count": null,
   "metadata": {},
   "outputs": [],
   "source": [
    "pytesseract.pytesseract.tesseract_cmd = r'C:\\Program Files\\Tesseract-OCR\\tesseract'\n",
    "\n",
    "custom_config_e = ('-l eng --oem 3 --psm 4') \n",
    "custom_config_k = ('-l kor --oem 3 --psm 4') \n",
    "custom_config_ke = ('-l kor+eng --oem 3 --psm 4') "
   ]
  },
  {
   "cell_type": "code",
   "execution_count": null,
   "metadata": {},
   "outputs": [],
   "source": [
    "img_t_1 = cv2.imread('C:/Users/user/Desktop/Tesseract-OCR/data/in/test_image_1.png')\n",
    "\n",
    "img_gray_1 = cv2.cvtColor(img_t_1, cv2.COLOR_BGR2GRAY)\n",
    "img_gray_to_txt_1 = pytesseract.image_to_string(img_gray_1, lang='kor')\n",
    "\n",
    "f = open('C:/Users/user/Desktop/Tesseract-OCR/data/out/test_text_1.txt', 'w')\n",
    "f.write(img_gray_to_txt_1)\n",
    "\n",
    "f.close()"
   ]
  },
  {
   "cell_type": "code",
   "execution_count": null,
   "metadata": {},
   "outputs": [],
   "source": [
    "img_t_2 = cv2.imread('C:/Users/user/Desktop/Tesseract-OCR/data/in/test_image_2.png')\n",
    "\n",
    "img_gray_2 = cv2.cvtColor(img_t_2, cv2.COLOR_BGR2GRAY)\n",
    "img_gray_to_txt_2 = pytesseract.image_to_string(img_gray_2, lang='kor')\n",
    "\n",
    "f = open('C:/Users/user/Desktop/Tesseract-OCR/data/out/test_text_2.txt', 'w')\n",
    "f.write(img_gray_to_txt_2)\n",
    "\n",
    "f.close()"
   ]
  },
  {
   "cell_type": "code",
   "execution_count": null,
   "metadata": {},
   "outputs": [],
   "source": [
    "img_t_3 = cv2.imread('C:/Users/user/Desktop/Tesseract-OCR/data/in/test_image_3.png')\n",
    "\n",
    "img_gray_3 = cv2.cvtColor(img_t_1, cv2.COLOR_BGR2GRAY)\n",
    "img_gray_to_txt_3 = pytesseract.image_to_string(img_gray_3, lang='kor')\n",
    "\n",
    "f = open('C:/Users/user/Desktop/Tesseract-OCR/data/out/test_text_3.txt', 'w')\n",
    "f.write(img_gray_to_txt_3)\n",
    "\n",
    "f.close()"
   ]
  },
  {
   "cell_type": "code",
   "execution_count": null,
   "metadata": {},
   "outputs": [],
   "source": [
    "img_t_4 = cv2.imread('C:/Users/user/Desktop/Tesseract-OCR/data/in/test_image_4.png')\n",
    "\n",
    "img_gray_4 = cv2.cvtColor(img_t_4, cv2.COLOR_BGR2GRAY)\n",
    "img_gray_to_txt_4 = pytesseract.image_to_string(img_gray_4, lang='kor')\n",
    "\n",
    "f = open('C:/Users/user/Desktop/Tesseract-OCR/data/out/test_text_4.txt', 'w')\n",
    "f.write(img_gray_to_txt_4)\n",
    "\n",
    "f.close()"
   ]
  },
  {
   "cell_type": "code",
   "execution_count": null,
   "metadata": {},
   "outputs": [],
   "source": [
    "img_t_5 = cv2.imread('C:/Users/user/Desktop/Tesseract-OCR/data/in/test_image_5.png')\n",
    "\n",
    "img_gray_5 = cv2.cvtColor(img_t_5, cv2.COLOR_BGR2GRAY)\n",
    "img_gray_to_txt_5 = pytesseract.image_to_string(img_gray_5, lang='kor')\n",
    "\n",
    "f = open('C:/Users/user/Desktop/Tesseract-OCR/data/out/test_text_5.txt', 'w')\n",
    "f.write(img_gray_to_txt_5)\n",
    "\n",
    "f.close()"
   ]
  },
  {
   "cell_type": "code",
   "execution_count": null,
   "metadata": {},
   "outputs": [],
   "source": [
    "img_t_6 = cv2.imread('C:/Users/user/Desktop/Tesseract-OCR/data/in/test_image_6.png')\n",
    "\n",
    "img_gray_6 = cv2.cvtColor(img_t_6, cv2.COLOR_BGR2GRAY)\n",
    "img_gray_to_txt_6 = pytesseract.image_to_string(img_gray_6, lang='kor')\n",
    "\n",
    "f = open('C:/Users/user/Desktop/Tesseract-OCR/data/out/test_text_6.txt', 'w')\n",
    "f.write(img_gray_to_txt_6)\n",
    "\n",
    "f.close()"
   ]
  },
  {
   "cell_type": "code",
   "execution_count": null,
   "metadata": {},
   "outputs": [],
   "source": []
  }
 ],
 "metadata": {
  "kernelspec": {
   "display_name": "Python 3",
   "language": "python",
   "name": "python3"
  },
  "language_info": {
   "codemirror_mode": {
    "name": "ipython",
    "version": 3
   },
   "file_extension": ".py",
   "mimetype": "text/x-python",
   "name": "python",
   "nbconvert_exporter": "python",
   "pygments_lexer": "ipython3",
   "version": "3.8.5"
  }
 },
 "nbformat": 4,
 "nbformat_minor": 4
}
