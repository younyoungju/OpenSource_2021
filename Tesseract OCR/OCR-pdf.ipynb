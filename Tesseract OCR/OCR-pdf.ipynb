{
 "cells": [
  {
   "cell_type": "markdown",
   "metadata": {},
   "source": [
    "# Tesseract-OCR\n",
    "Tesseract 오픈소스를 이용해 이미지에서 텍스트 추출\n",
    "https://github.com/tesseract-ocr/tesseract\n",
    "\n",
    "1. 파일 종류 선택 - 이미지(jpg,png)/pdf\n",
    "-pdf : 페이지별로 이미지 파일로 변환/텍스트 파일로 저장\n",
    "\n",
    "2. 이미지 파일에서 텍스트 인식 및 텍스트 파일 저장\n",
    "\n",
    "https://www.geeksforgeeks.org/python-reading-contents-of-pdf-using-ocr-optical-character-recognition/"
   ]
  },
  {
   "cell_type": "code",
   "execution_count": 2,
   "metadata": {},
   "outputs": [
    {
     "data": {
      "text/plain": [
       "['C:\\\\Users\\\\user\\\\Documents\\\\OpenSource_2021\\\\Tesseract-OCR',\n",
       " 'C:\\\\Users\\\\user\\\\anaconda3\\\\python38.zip',\n",
       " 'C:\\\\Users\\\\user\\\\anaconda3\\\\DLLs',\n",
       " 'C:\\\\Users\\\\user\\\\anaconda3\\\\lib',\n",
       " 'C:\\\\Users\\\\user\\\\anaconda3',\n",
       " '',\n",
       " 'C:\\\\Users\\\\user\\\\anaconda3\\\\lib\\\\site-packages',\n",
       " 'C:\\\\Users\\\\user\\\\anaconda3\\\\lib\\\\site-packages\\\\win32',\n",
       " 'C:\\\\Users\\\\user\\\\anaconda3\\\\lib\\\\site-packages\\\\win32\\\\lib',\n",
       " 'C:\\\\Users\\\\user\\\\anaconda3\\\\lib\\\\site-packages\\\\Pythonwin',\n",
       " 'C:\\\\Users\\\\user\\\\anaconda3\\\\lib\\\\site-packages\\\\IPython\\\\extensions',\n",
       " 'C:\\\\Users\\\\user\\\\.ipython',\n",
       " 'C:/Users/user/AppData/Local/Programs/Python/Python39/Lib/site-packages']"
      ]
     },
     "execution_count": 2,
     "metadata": {},
     "output_type": "execute_result"
    }
   ],
   "source": [
    "#ModuleNotFoundError 해결을 위한 경로 추가\n",
    "\n",
    "import sys\n",
    "sys.path.append(\"C:/Users/user/AppData/Local/Programs/Python/Python39/Lib/site-packages\")\n",
    "sys.path"
   ]
  },
  {
   "cell_type": "code",
   "execution_count": 3,
   "metadata": {},
   "outputs": [],
   "source": [
    "from PIL import Image\n",
    "import pytesseract\n",
    "import sys\n",
    "import os\n",
    "from pdf2image import convert_from_path"
   ]
  },
  {
   "cell_type": "markdown",
   "metadata": {},
   "source": [
    "# pdf를 이미지로 저장\n",
    "pip install pdf2image"
   ]
  },
  {
   "cell_type": "code",
   "execution_count": null,
   "metadata": {},
   "outputs": [],
   "source": [
    "#pdf 파일 경로\n",
    "PDF_file = \"pdf파일.pdf\"\n",
    "\n",
    "pages = convert_from_path(PDF_file, 500)\n",
    "\n",
    "# 각 페이지별 저장\n",
    "image_counter = 1\n",
    "for page in pages:\n",
    "    #페이지별 파일명 지정\n",
    "    filename = \"page_\"+str(image_counter)+\".jpg\"\n",
    "    #페이지별 이미지 변환\n",
    "    page.save(filename, 'JPEG')\n",
    "    image_counter = image_counter+1\n"
   ]
  },
  {
   "cell_type": "code",
   "execution_count": null,
   "metadata": {},
   "outputs": [],
   "source": [
    "# Variable to get count of total number of pages\n",
    "filelimit = image_counter-1\n",
    "\n",
    "# Creating a text file to write the output\n",
    "outfile = PDF_file+\"out.txt\"\n",
    "\n",
    "f = open(outfile, \"a\")\n",
    "\n",
    "for i in range(1, filelimit + 1):\n",
    "    filename = \"page_\"+str(i)+\".jpg\"\n",
    "    text = str(((pytesseract.image_to_string(Image.open(filename)))))\n",
    "    \n",
    "    #특정 단어를 같은 줄에 쓸 수 없을 경우 하이픈'-' 추가, 줄바꿈\n",
    "    #해당 변환 전처리\n",
    "    text = text.replace('-\\n', '')\n",
    "    \n",
    "    #text를 txt파일에 추가\n",
    "    f.write(text)\n",
    "\n",
    "f.close()"
   ]
  },
  {
   "cell_type": "markdown",
   "metadata": {},
   "source": [
    "# PDF를 텍스트로 저장\n",
    "pdftotext 이용\n",
    "\n",
    "https://pypi.org/project/pdftotext/\n",
    "pip install pdftotext\n"
   ]
  },
  {
   "cell_type": "code",
   "execution_count": null,
   "metadata": {},
   "outputs": [],
   "source": [
    "import pdftotext"
   ]
  },
  {
   "cell_type": "code",
   "execution_count": null,
   "metadata": {},
   "outputs": [],
   "source": [
    "filename = \"파일 경로\"\n",
    "\n",
    "with open(filename, \"rb\") as f:\n",
    "    pdf = pdftotext.PDF(f)\n",
    "    \n",
    "for page in pdf:\n",
    "    print(page)\n"
   ]
  },
  {
   "cell_type": "code",
   "execution_count": null,
   "metadata": {},
   "outputs": [],
   "source": []
  },
  {
   "cell_type": "code",
   "execution_count": null,
   "metadata": {},
   "outputs": [],
   "source": []
  }
 ],
 "metadata": {
  "kernelspec": {
   "display_name": "Python 3",
   "language": "python",
   "name": "python3"
  },
  "language_info": {
   "codemirror_mode": {
    "name": "ipython",
    "version": 3
   },
   "file_extension": ".py",
   "mimetype": "text/x-python",
   "name": "python",
   "nbconvert_exporter": "python",
   "pygments_lexer": "ipython3",
   "version": "3.8.5"
  }
 },
 "nbformat": 4,
 "nbformat_minor": 4
}
