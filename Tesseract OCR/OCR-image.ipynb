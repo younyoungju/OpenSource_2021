{
 "cells": [
  {
   "cell_type": "markdown",
   "metadata": {},
   "source": [
    "# Tesseract-OCR\n",
    "Tesseract 오픈소스를 이용해 이미지에서 텍스트 추출\n",
    "\n",
    "1. 파일 종류 선택 - 이미지(jpg,png)/pdf\n",
    "pdf의 경우 페이지별로 이미지 파일로 변환\n",
    "\n",
    "2. 이미지 파일에서 텍스트 인식 및 텍스트 파일 저장\n",
    "\n",
    "https://www.geeksforgeeks.org/python-reading-contents-of-pdf-using-ocr-optical-character-recognition/"
   ]
  },
  {
   "cell_type": "markdown",
   "metadata": {},
   "source": [
    "# 이미지 파일 종류\n",
    "1. 화면 이미지-한글/영어/한글+영어\n",
    "직접 찍은 사진이 아닌 컴퓨터로 작성된 이미지의 경우 전처리를 할 때 정확도가 더 떨어지는 경우가 대다수.\n",
    "\n",
    "2. 사진 이미지-한글/영어/한글+영어\n",
    "기울기 보정, 노이즈 제거, 이진화 등"
   ]
  },
  {
   "cell_type": "markdown",
   "metadata": {},
   "source": []
  },
  {
   "cell_type": "code",
   "execution_count": 20,
   "metadata": {},
   "outputs": [],
   "source": [
    "import cv2\n",
    "import pytesseract\n",
    "import numpy as np\n",
    "from matplotlib import pyplot as plt"
   ]
  },
  {
   "cell_type": "code",
   "execution_count": 6,
   "metadata": {},
   "outputs": [],
   "source": [
    "#tesseract 경로를 명시적으로 등록\n",
    "#pytesseract.pytesseract.tesseract_cmd = r'테서렉트 경로'\n",
    "pytesseract.pytesseract.tesseract_cmd = r'C:\\Program Files\\Tesseract-OCR\\tesseract'\n",
    "\n",
    "#custom options 적용\n",
    "custom_config_e = ('-l eng --oem 3 --psm 4') \n",
    "custom_config_k = ('-l kor --oem 3 --psm 4') \n",
    "custom_config_ke = ('-l kor+eng --oem 3 --psm 4') "
   ]
  },
  {
   "cell_type": "markdown",
   "metadata": {},
   "source": [
    "— psm 인수를 사용해 분할모드 지정.\n",
    "0. Orientation and script detection (OSD) only.\n",
    "1. Automatic page segmentation with OSD.\n",
    "2. Automatic page segmentation, but no OSD, or OCR.\n",
    "3. Fully automatic page segmentation, but no OSD. (Default)\n",
    "4. Assume a single column of text of variable sizes.\n",
    "5. Assume a single uniform block of vertically aligned text.\n",
    "6. Assume a single uniform block of text.\n",
    "7. Treat the image as a single text line.\n",
    "8. Treat the image as a single word.\n",
    "9. Treat the image as a single word in a circle.\n",
    "10. Treat the image as a single character.\n",
    "11. Sparse text. Find as much text as possible in no particular order.\n",
    "12. Sparse text with OSD.\n",
    "13. Raw line. Treat the image as a single text line,\n",
    "\t\t\tbypassing hacks that are Tesseract-specific."
   ]
  },
  {
   "cell_type": "code",
   "execution_count": 42,
   "metadata": {
    "scrolled": true
   },
   "outputs": [
    {
     "name": "stdout",
     "output_type": "stream",
     "text": [
      "A Dream Within A Dream\n",
      "\n",
      " \n",
      "\n",
      "by Edgar Allan Poe\n",
      "\n",
      "Take this kiss upon the brow!\n",
      "And, in parting from you now,\n",
      "‘Thus much let me avow-—\n",
      "‘You are not wrong, who deem\n",
      "‘That my days have been a dream;\n",
      "Yet if hope has flown away\n",
      "Ina night, or in a day,\n",
      "\n",
      "Ina vision, or in none,\n",
      "\n",
      "Is it therefore the less gone?\n",
      "Alll that we see or seem\n",
      "\n",
      "Is but a dream within a dream.\n",
      "\f",
      "\n"
     ]
    }
   ],
   "source": [
    "#화면 이미지 변환\n",
    "#img = cv2.imread('이미지 경로')\n",
    "\n",
    "#eng\n",
    "img_1 = cv2.imread('C:/Users/user/Desktop/Tesseract-OCR/data/in/IMG_1.png')\n",
    "\n",
    "txt_1 = pytesseract.image_to_string(img_1)\n",
    "\n",
    "print(txt_1)\n"
   ]
  },
  {
   "cell_type": "code",
   "execution_count": null,
   "metadata": {},
   "outputs": [],
   "source": [
    "#텍스트 파일로 저장\n",
    "f = open('C:/Users/user/Desktop/Tesseract-OCR/data/out/IMG_1.txt', 'w')\n",
    "f.write(txt_1)\n",
    "\n",
    "f.close()"
   ]
  },
  {
   "cell_type": "code",
   "execution_count": 35,
   "metadata": {
    "scrolled": true
   },
   "outputs": [
    {
     "name": "stdout",
     "output_type": "stream",
     "text": [
      "소년\n",
      "\n",
      "여기저기서 단품잎 같은 슬픈 가을이 뚝뚝 떨어진다. 단품잎\n",
      "떨어져 나온 자리마다 봄을 마련해 놓고 나못가지 위에 하늘이\n",
      "펼쳐 있다. 가만히 하늘을 들여다보려면 눈썸에 파란 물감이\n",
      "든다. 두 손으로 따뜻한 볼을 쓸어 보면 손바닥에도 파란 물감\n",
      "이 묻어난다. 다시 손바닥을 들여다본다 손금에는 맑은 강물\n",
      "이 흐르고 맑은 강물이 흐르고, 강물 속에는 사랑처럼 슬픈 얼\n",
      "굴- 아름다운 순이의 얼굳이 어린다. 소년은 황졸히 눈을\n",
      "감아 본다. 그래도 맑은 강물은 층러 사랑처럼 슬픈 얼굴\n",
      "아름다운 순이의 얼굴은 어린다.\n",
      "\n",
      " \n",
      "\n",
      " \n",
      "\n",
      " \n",
      "\f",
      "\n"
     ]
    }
   ],
   "source": [
    "#kor\n",
    "img_2 = cv2.imread('C:/Users/user/Desktop/Tesseract-OCR/data/in/IMG_2.png')\n",
    "\n",
    "txt_2 = pytesseract.image_to_string(img_2, lang = 'kor')\n",
    "\n",
    "print(txt_2)"
   ]
  },
  {
   "cell_type": "code",
   "execution_count": 36,
   "metadata": {},
   "outputs": [
    {
     "name": "stdout",
     "output_type": "stream",
     "text": [
      "도저히 우울 말고는 다른 걸 할 틈이 없을 지경에 이르면 머리카라이나\n",
      "발돕이 징그러울 정도로 자라있어, 나는 방구석에 앉아 손돕과 발돔을 자르\n",
      "지. 톡톡 잘려나가는 낄들을 보며 나는 생각해. 내가 우울하단 자각을\n",
      "할 수 있을 때는 누군가에게 영향을 미칠 것 같단 생각을 할 여유가 있었고,\n",
      "그 누군가가 말 없는 위로를 건네줄 때 우울함을 들키고 싶지 않았다고.\n",
      "우울하다는 자가진단을 내릴 수 없을 땐 위 같은 상황들이 충족되지 않았지.\n",
      "\n",
      " \n",
      "\n",
      " \n",
      "\n",
      "아무튼 혼자 사는 사람은 항상 우울한 것 같아. 우울을 스스로 깨달을 수\n",
      "\n",
      "있을 시기가 제일 좋아.\n",
      "\f",
      "\n"
     ]
    }
   ],
   "source": [
    "#kor-photo\n",
    "img_3 = cv2.imread('C:/Users/user/Desktop/Tesseract-OCR/data/in/IMG_3.png')\n",
    "\n",
    "txt_3 = pytesseract.image_to_string(img_3, lang = 'kor')\n",
    "\n",
    "print(txt_3)"
   ]
  },
  {
   "cell_type": "code",
   "execution_count": 39,
   "metadata": {},
   "outputs": [
    {
     "name": "stdout",
     "output_type": "stream",
     "text": [
      "OCR 역사 p22)\n",
      "\n",
      "OcRe| SAE 우리의 생각보다 길다. OCR 역사는 1928년에 독일의 6. Taushek7t 미리 준비된\n",
      "몇 개의 표준 63『6문자와 입력문자를 비교하여 BF pattem SAS} 가장 유사한 것을 해당 문\n",
      "자로 ABStE pattern matching7/E#S 이용한 문자 인식 PHS SHS 등록하면서 시작되었다.\n",
      "연구소나 기업 등에서 대형 컴퓨터를 통하여 수행되던 것이 『<와 이미지 스캐너의 보급으로 우\n",
      "리 가까이 사용되기 시작한 것은 이미 20년이 넘었다.\n",
      "\n",
      "해외에서 먼저 연구가 시작된 OCR 기술은 영어인식을 위주로 개발되었으며, 우리나라에는 ood\n",
      "대 초반에 한글 문자 인식 소프트웨어가 실험실 수준으로 개발되어 일반에 소개되었었다. 연산처\n",
      "리 능력이 뛰어난 워크스테이션급에서 동작되던 것들이 개인용 컴퓨터의 처리 능력이 업그레이\n",
      "드 되면서 PCS OCRHO| 시장에 속속 나타나던 것이 90년대 중반이었다.\n",
      "\n",
      "최근 네이버 ClovadlAi 0애서비스를 오픈했으며, 네이버 클라우드 플랫폼 SSOHA Gateway\n",
      "APIS 통해 이용 가능하다. OCR 첼린지인 'ICDAR Robust Reading ㄴ<0「0ㅁ60000'에서 '19년 4개\n",
      "분야를 석권, 정확도와 기술력을 인정받았다고 한다.\n",
      "\n",
      " \n",
      "\n",
      "068 소프트웨어 pay)\n",
      "6 네이버 클라우드 플랫폼 OcRe\n",
      "＊ ABBYY FineReader?\n",
      " 마이크로소프트 오피스 도큐먼트 OO] A(Microsoft Office Document Imaging)\n",
      "* OmniPage\n",
      " Readiris\n",
      "* WebOCR\n",
      "\n",
      " \n",
      "\f",
      "\n"
     ]
    }
   ],
   "source": [
    "#kor+eng\n",
    "img_4 = cv2.imread('C:/Users/user/Desktop/Tesseract-OCR/data/in/IMG_4.png')\n",
    "\n",
    "txt_4 = pytesseract.image_to_string(img_4, lang = 'kor+eng')\n",
    "\n",
    "print(txt_4)"
   ]
  },
  {
   "cell_type": "code",
   "execution_count": 40,
   "metadata": {
    "scrolled": false
   },
   "outputs": [
    {
     "data": {
      "image/png": "[encoded data removed]",
      "text/plain": [
       "<Figure size 432x288 with 6 Axes>"
      ]
     },
     "metadata": {},
     "output_type": "display_data"
    }
   ],
   "source": [
    "#이미지 정확도를 위한 전처리\n",
    "#https://opencv-python.readthedocs.io/en/latest/doc/09.imageThresholding/imageThresholding.html\n",
    "img = cv2.imread('C:/Users/user/Desktop/Tesseract-OCR/data/in/IMG_4.png')\n",
    "\n",
    "ret, thresh1 = cv2.threshold(img,127,255, cv2.THRESH_BINARY)\n",
    "ret, thresh2 = cv2.threshold(img,127,255, cv2.THRESH_BINARY_INV)\n",
    "ret, thresh3 = cv2.threshold(img,127,255, cv2.THRESH_TRUNC)\n",
    "ret, thresh4 = cv2.threshold(img,127,255, cv2.THRESH_TOZERO)\n",
    "ret, thresh5 = cv2.threshold(img,127,255, cv2.THRESH_TOZERO_INV)\n",
    "\n",
    "titles =['Original','BINARY','BINARY_INV','TRUNC','TOZERO','TOZERO_INV']\n",
    "images = [img_2,thresh1,thresh2,thresh3,thresh4,thresh5]\n",
    "\n",
    "for i in range(6):\n",
    "    plt.subplot(2,3,i+1),plt.imshow(images[i],'gray')\n",
    "    plt.title(titles[i])\n",
    "    plt.xticks([]),plt.yticks([])\n",
    "\n",
    "plt.show()"
   ]
  },
  {
   "cell_type": "code",
   "execution_count": null,
   "metadata": {},
   "outputs": [],
   "source": []
  },
  {
   "cell_type": "code",
   "execution_count": null,
   "metadata": {},
   "outputs": [],
   "source": [
    "#텍스트 파일로 저장\n",
    "f = open('C:/Users/user/Desktop/Tesseract-OCR/data/out/IMG_1.txt', 'w')\n",
    "f.write(txt_1)\n",
    "\n",
    "f.close()"
   ]
  },
  {
   "cell_type": "code",
   "execution_count": 27,
   "metadata": {},
   "outputs": [
    {
     "name": "stdout",
     "output_type": "stream",
     "text": [
      "ㅣ. 머리말\n",
      "\n",
      "인간들은 특정 목적으로 공간을 구획하고, 창출하거\n",
      "나 파기하며, 공간 내에서 사회생활을 영위한다. 인간의\n",
      "모든 사회생활이 다양한 공간 속에서 이루어지고, 사회\n",
      "생활의 다양한 단위들이 공간을 통해 특징적으로 개념\n",
      "지어지기도 하며, 사회생활의 많은 부분이 공간을 매개\n",
      "로 이루어지고 있다. 공간 개념은 세계, 대륙, 영토, 국\n",
      "가, 지역, 지방, 도시, 구역 등 상대적으로 추상성 높은\n",
      "공간과 주택, 방, 공장, 극장처럼 물리적 특성이 구체적\n",
      "인 공간을 모두 포함한다.\n",
      "\n",
      "하지만 본고에서는 주제와 관련한 '스마트공간'과 '전\n",
      "ASUS 이해하기 위한 논의들로 집중해서 진행하고\n",
      "자 한다. 논의 대상은 구체적인 물리적 공간을 대상으로\n",
      "논의하며, 그 중에서도 여러 사람들이 공동으로 ASE\n",
      "는 '공공공간'을, 보다 구체적으로는 '전시공간'을 염두\n",
      "에 둔 논의로 한정한다.\n",
      "\n",
      "'전시공간'은 근대 이후 성립된 종합 박물관04486-\n",
      "1000과 근대 이후 분화 발전해 온 미술관0606600 of\n",
      "Art), 과학관04{056000 of Science) 등의 특화 박물관, 세\n",
      "계박람회02030)와 여기서 분화된 테마파크, 전시 컨벤\n",
      "ASS 포괄한다111. 사람들은 정보획득, 학습, 오락 등\n",
      "을 목적으로 전시공간을 방문하여 관람하고 체험하는\n",
      "공간적 실천행위를 하고 있다. 전시공간은 전시를 주관\n",
      "하는 주체의 공간적 실천을 통해 생성되고, 대중들의 다\n",
      "양한 목적의 공간적 실천을 통해 활용되는 두 가지 공간\n",
      "적 실천이 중첩되는 문화영역이다.\n",
      "\n",
      " \n",
      "\n",
      "11. 유비쿼터스 환경과 반응하는 공간\n",
      "\n",
      "전시공간을 포함한 문화공간을 제3의 공간으로 분류\n",
      "하는 기준이 있다. 인간이 만는 사회적 공간 중 제 1의\n",
      "공간(066 first 50609을 주거공간으로 제2의 공간(446\n",
      "second space) 일하는 공간으로 한다면, 1980년대 들\n",
      "\n",
      "어 제1의 BEE 아니고 Ae} BAKE 아닌데 감각적으\n",
      "로 짜릿하고 집처럼 편안한 문화공간에 대한 대중들의\n",
      "수요가 BUSHY 조성되는 이러한 BENS 제3의\n",
      "Bethe third space). 2 분류한 것이대21.\n",
      "\n",
      "제4의 공간(40 0609이란 HBS] 논의도 있다. 공간\n",
      "의 진화방향을 예측한 제4의 공간은 디지털 기술의 발\n",
      "달 이후 인간의 행동에 반응하는 공간600009\n",
      "'00001000908에 대한 새로운 개념이대81141.\n",
      "\n",
      " 조성되는 건축에 마치 sho] 구조물처럼 인터랙티브\n",
      "디지털 매체가 설치되어 인간의 행동에 반응하는 공간\n",
      "이 생성된다는 것이대[51 이러한 공간환정은 전시공간\n",
      "PROM 최근 많이 활용되고 있다. 이러한 공간은 득히\n",
      "AVES 활용하는 세계박람회의 전시공간에서 많이\n",
      "활용되고 있는데, 공간에서 인간 행동이나 인터랙티브\n",
      "ASHE 감지하고, 이에 따라 공간의 분위기가 바뀌\n",
      "거나, 특정 퍼포먼스가 일어나거나, 특정 정보가 제공되\n",
      "는 등의 반용이 일어나는 시스템이다. 미디어 월60040\n",
      "veal), 인터랙티브 플로어0040000= 0008, 미디어 테\n",
      "이블(0000 table) 등의 개념이 인터랙티브 공간을 형성\n",
      "하는 매체들이며, 그 밖에도 다양한 센싱 기술과 유무선\n",
      "네트워크 기술을 디지털 전시매체와 조합하고 시스템화\n",
      "하면 매우 다양한 인터랙티브 SHAS 구현할 수 있다.\n",
      "\n",
      "이러한 공간을 위해서는 fl AEA ubiquitous) 환경\n",
      "이 필요하다. 즉공간에 머무는 ARO] 어느 지점에서나\n",
      "네트워크 Sas 의식하지 않고 자유롭게 접속할 수\n",
      "있는 정보동신 환경이 필요한 것이다. BE 다양한 인\n",
      "터랙티브 매체가 적절하게 배치되어 있고, 이 매체들은\n",
      "유비쿼터스 환경에서 유무선 네트워크로 콘텐츠 아카이\n",
      "브나 데이터베이스 등에 연결되어 사용자의 인터랙티브\n",
      "행위에 따라 서비스 시스템에 통제되어 특정 콘텐츠를\n",
      "재공하는 반응이 일어나는 공간이 진정한 제4의 공간이\n",
      "라고 할 수 있는 것이다.\n",
      "\n",
      "최근 전시공간은 제4의 공간으로의 진보를 위한 중요\n",
      "한 과정에 있다고 할 수 있다. 이러한 진보가 이루어진\n",
      "\f",
      "\n"
     ]
    }
   ],
   "source": [
    "#정확도를 위한 전처리\n",
    "#grayscale로 변환\n",
    "img_gray = cv2.cvtColor(img, cv2.COLOR_BGR2GRAY)\n",
    "img_gray_to_txt = pytesseract.image_to_string(img_gray, lang='kor+eng')\n",
    "\n",
    "print(img_gray_to_txt)"
   ]
  },
  {
   "cell_type": "markdown",
   "metadata": {},
   "source": [
    "문자가 둘 이상 혼합되어 있을 때(한글+영어) 정확도가 확연히 떨어짐"
   ]
  },
  {
   "cell_type": "code",
   "execution_count": 29,
   "metadata": {},
   "outputs": [],
   "source": [
    "#텍스트 파일로 저장\n",
    "f = open('C:/Users/user/Desktop/Tesseract-OCR/data/out/IMGE_9.txt', 'w')\n",
    "f.write(img_gray_to_txt)\n",
    "\n",
    "f.close()"
   ]
  },
  {
   "cell_type": "code",
   "execution_count": 31,
   "metadata": {},
   "outputs": [],
   "source": [
    "f = open('C:/Users/user/Desktop/Tesseract-OCR/data/out/IMGE_10.txt', 'w')\n",
    "f.write(img_gray_to_txt2)\n",
    "\n",
    "f.close()"
   ]
  },
  {
   "cell_type": "markdown",
   "metadata": {},
   "source": []
  }
 ],
 "metadata": {
  "kernelspec": {
   "display_name": "Python 3",
   "language": "python",
   "name": "python3"
  },
  "language_info": {
   "codemirror_mode": {
    "name": "ipython",
    "version": 3
   },
   "file_extension": ".py",
   "mimetype": "text/x-python",
   "name": "python",
   "nbconvert_exporter": "python",
   "pygments_lexer": "ipython3",
   "version": "3.8.5"
  }
 },
 "nbformat": 4,
 "nbformat_minor": 4
}
