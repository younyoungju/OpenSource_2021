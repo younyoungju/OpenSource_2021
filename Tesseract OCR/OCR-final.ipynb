{
 "cells": [
  {
   "cell_type": "code",
   "execution_count": 2,
   "metadata": {},
   "outputs": [],
   "source": [
    "import cv2\n",
    "import pytesseract\n",
    "import numpy as np\n",
    "import os\n",
    "import pdftotext\n",
    "\n",
    "pytesseract.pytesseract.tesseract_cmd = r'C:\\Program Files\\Tesseract-OCR\\tesseract'"
   ]
  },
  {
   "cell_type": "code",
   "execution_count": 11,
   "metadata": {},
   "outputs": [],
   "source": [
    "#최종 코드 함수\n",
    "\n",
    "#my_file = 이미지 파일 경로 이름\n",
    "def tes_ocr(my_file):\n",
    "    file_path = os.path.splitext(my_file)[1]\n",
    "    if file_path=='.png' or file_path=='.jpg':\n",
    "        image_file = cv2.imread(my_img)\n",
    "        img_gray = cv2.cvtColor(image_file, cv2.COLOR_BGR2GRAY)\n",
    "        gray_to_text = pytesseract.image_to_string(img_gray, lang='kor')\n",
    "      \n",
    "        #text_file = 텍스트 파일 저장 경로\n",
    "        f = open(text_file, 'w', encoding='UTF-8')\n",
    "        f.write(gray_to_text)\n",
    "        f.close()\n",
    "    if file_path=='pdf':\n",
    "        with open(my_file, \"rb\") as f:\n",
    "            text_file=pdftotext.PDF(f)\n",
    "    \n",
    "    return text_file\n"
   ]
  },
  {
   "cell_type": "code",
   "execution_count": null,
   "metadata": {},
   "outputs": [],
   "source": []
  }
 ],
 "metadata": {
  "kernelspec": {
   "display_name": "Python 3",
   "language": "python",
   "name": "python3"
  },
  "language_info": {
   "codemirror_mode": {
    "name": "ipython",
    "version": 3
   },
   "file_extension": ".py",
   "mimetype": "text/x-python",
   "name": "python",
   "nbconvert_exporter": "python",
   "pygments_lexer": "ipython3",
   "version": "3.8.5"
  }
 },
 "nbformat": 4,
 "nbformat_minor": 4
}
